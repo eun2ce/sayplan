{
 "cells": [
  {
   "cell_type": "code",
   "execution_count": 1,
   "id": "f04e0106",
   "metadata": {},
   "outputs": [],
   "source": [
    "from langchain_openai import ChatOpenAI\n",
    "from langchain_core.prompts import ChatPromptTemplate\n",
    "from langchain_core.messages import HumanMessage\n",
    "\n",
    "from langchain_core.prompts import (\n",
    "    ChatPromptTemplate,\n",
    "    SystemMessagePromptTemplate,\n",
    "    HumanMessagePromptTemplate,\n",
    ")\n",
    "\n",
    "from langchain_core.runnables import RunnablePassthrough\n",
    "from datetime import date"
   ]
  },
  {
   "cell_type": "code",
   "execution_count": 2,
   "id": "db87bebb",
   "metadata": {},
   "outputs": [],
   "source": [
    "from pydantic import BaseModel, Field\n",
    "from typing import Optional, Literal\n",
    "\n",
    "\n",
    "class AutomationStep(BaseModel):\n",
    "    action: str = Field(..., description=\"Description of the specific action to perform.\")\n",
    "    input: Optional[str] = Field(None, description=\"Input required for the action (e.g., file path, keyword).\")\n",
    "    output: Optional[str] = Field(None, description=\"Expected output from the action.\")\n",
    "    tool: Literal[\n",
    "        \"ocr_reader\",\n",
    "        \"excel_writer\",\n",
    "        \"comparer\",\n",
    "        \"web_automation\",\n",
    "        \"email_fetcher\",\n",
    "        \"unspecified\"\n",
    "    ] = Field(..., description=\"The type of tool or method to be used for the action.\")\n",
    "\n",
    "\n",
    "class ResultSchema(BaseModel):\n",
    "    steps: list[AutomationStep] = Field(description=\"Step-by-step breakdown of the task to automate.\")"
   ]
  },
  {
   "cell_type": "code",
   "execution_count": 3,
   "id": "757ff598",
   "metadata": {},
   "outputs": [],
   "source": [
    "parameters = dict(\n",
    "    base_url=\"http://localhost:1234/v1\",\n",
    "    api_key=\"nothing\", # required, but unused\n",
    "    model=\"qwen3:4B\",\n",
    "    temperature=0.0,\n",
    "    max_tokens=10240,\n",
    ")\n",
    "\n",
    "client = ChatOpenAI(**parameters).with_structured_output(\n",
    "    schema=ResultSchema,\n",
    "    include_raw=True,\n",
    "    strict=True,\n",
    ")"
   ]
  },
  {
   "cell_type": "code",
   "execution_count": 4,
   "id": "529c419a",
   "metadata": {},
   "outputs": [
    {
     "data": {
      "text/plain": [
       "{\n",
       "  raw: RunnableBinding(bound=ChatOpenAI(client=<openai.resources.chat.completions.completions.Completions object at 0x10a4e1130>, async_client=<openai.resources.chat.completions.completions.AsyncCompletions object at 0x10c080140>, root_client=<openai.OpenAI object at 0x104831070>, root_async_client=<openai.AsyncOpenAI object at 0x10a4e12b0>, model_name='qwen3:4B', temperature=0.0, model_kwargs={}, openai_api_key=SecretStr('**********'), openai_api_base='http://localhost:1234/v1', max_tokens=10240), kwargs={'response_format': <class '__main__.ResultSchema'>, 'ls_structured_output_format': {'kwargs': {'method': 'json_schema', 'strict': True}, 'schema': {'type': 'function', 'function': {'name': 'ResultSchema', 'description': '', 'parameters': {'properties': {'steps': {'description': 'Step-by-step breakdown of the task to automate.', 'items': {'properties': {'action': {'description': 'Description of the specific action to perform.', 'type': 'string'}, 'input': {'anyOf': [{'type': 'string'}, {'type': 'null'}], 'default': None, 'description': 'Input required for the action (e.g., file path, keyword).'}, 'output': {'anyOf': [{'type': 'string'}, {'type': 'null'}], 'default': None, 'description': 'Expected output from the action.'}, 'tool': {'description': 'The type of tool or method to be used for the action.', 'enum': ['file_browser', 'pdf_extractor', 'ocr_reader', 'excel_writer', 'comparer', 'web_automation', 'email_fetcher', 'unspecified'], 'type': 'string'}}, 'required': ['action', 'tool'], 'type': 'object'}, 'type': 'array'}}, 'required': ['steps'], 'type': 'object'}}}}}, config={}, config_factories=[])\n",
       "}\n",
       "| RunnableWithFallbacks(runnable=RunnableAssign(mapper={\n",
       "    parsed: RunnableLambda(itemgetter('raw'))\n",
       "            | RunnableBinding(bound=RunnableLambda(...), kwargs={}, config={}, config_factories=[], custom_output_type=<class '__main__.ResultSchema'>),\n",
       "    parsing_error: RunnableLambda(...)\n",
       "  }), fallbacks=[RunnableAssign(mapper={\n",
       "    parsed: RunnableLambda(lambda _: None)\n",
       "  })], exception_key='parsing_error')"
      ]
     },
     "execution_count": 4,
     "metadata": {},
     "output_type": "execute_result"
    }
   ],
   "source": [
    "client"
   ]
  },
  {
   "cell_type": "code",
   "execution_count": 13,
   "id": "7e031db9-fc8d-4e94-afa6-a06293d190bb",
   "metadata": {},
   "outputs": [],
   "source": [
    "__SYSTEM_PROMPT = \"\"\"\n",
    "You are a helpful AI assistant that converts user instructions into a step-by-step action plan that can be executed by an automation system.\n",
    "\n",
    "Each step should include:\n",
    "- action: a clear description of what needs to be done\n",
    "- input: the required file, path, or data input\n",
    "- output: the expected result or data output\n",
    "- tool: the tool category used to perform this step\n",
    "  (e.g., file_browser, pdf_extractor, ocr_reader, excel_writer, comparer, web_automation, email_fetcher)\n",
    "\n",
    "If any required information is missing, write \"unspecified\".\n",
    "\n",
    "Return the result in the following JSON format:\n",
    "```json\n",
    "{{\n",
    "  \"steps\": [\n",
    "    {{\n",
    "      \"action\": \"...\",\n",
    "      \"input\": \"...\",\n",
    "      \"output\": \"...\",\n",
    "      \"tool\": \"...\"\n",
    "    }}\n",
    "  ]\n",
    "}}\n",
    "Be concise, structured, and do not invent missing data.\n",
    "\"\"\"\n",
    "\n",
    "\n",
    "prompt_template = ChatPromptTemplate.from_messages(\n",
    "    [\n",
    "        SystemMessagePromptTemplate.from_template(__SYSTEM_PROMPT),\n",
    "        SystemMessagePromptTemplate.from_template(\"/no_think\"),\n",
    "        HumanMessagePromptTemplate.from_template(\"{message}\"),\n",
    "        HumanMessagePromptTemplate.from_template(\"current DATETIME with time zone is {current_datetime}\"),\n",
    "    ]\n",
    ")"
   ]
  },
  {
   "cell_type": "code",
   "execution_count": null,
   "id": "73d2ecd0-67f7-4e50-8fcf-03949aab90df",
   "metadata": {},
   "outputs": [],
   "source": [
    "from pendulum import now\n",
    "\n",
    "message = \"영수증 이미지를 OCR로 읽어서 항목별로 엑셀에 저장하고, 5만 원 이상 항목은 강조해줘\"\n",
    "\n",
    "formatted = prompt_template.format_prompt(\n",
    "    message=message,\n",
    "    current_datetime=now(\"Asia/Seoul\").to_iso8601_string(),\n",
    ").to_messages()\n",
    "\n",
    "results = client.invoke(formatted)"
   ]
  },
  {
   "cell_type": "code",
   "execution_count": 18,
   "id": "d863f255-4372-405a-96f3-01b03c6bc3cb",
   "metadata": {},
   "outputs": [
    {
     "data": {
      "text/plain": [
       "ResultSchema(steps=[AutomationStep(action='OCR 영수증 이미지를 읽기', input='영수증 이미지 파일 경로', output='OCR에서 추출된 텍스트 데이터', tool='ocr_reader'), AutomationStep(action='텍스트 데이터를 엑셀에 저장하기', input='OCR에서 추출된 텍스트 데이터, 엑셀 파일 경로', output='OCR에서 추출된 항목별 정보가 담긴 엑셀 파일', tool='excel_writer'), AutomationStep(action='엑셀 파일에서 5만 원 이상의 항목 찾기', input='OCR에서 추출된 항목별 정보가 담긴 엑셀 파일', output='5만 원 이상의 항목이 강조된 엑셀 파일', tool='comparer')])"
      ]
     },
     "execution_count": 18,
     "metadata": {},
     "output_type": "execute_result"
    }
   ],
   "source": [
    "# results[\"raw\"]\n",
    "results[\"parsed\"]"
   ]
  },
  {
   "cell_type": "code",
   "execution_count": null,
   "id": "2ea45332-aad3-4ae5-a81d-5b82df2b494d",
   "metadata": {},
   "outputs": [],
   "source": []
  }
 ],
 "metadata": {
  "kernelspec": {
   "display_name": "Python 3 (ipykernel)",
   "language": "python",
   "name": "python3"
  },
  "language_info": {
   "codemirror_mode": {
    "name": "ipython",
    "version": 3
   },
   "file_extension": ".py",
   "mimetype": "text/x-python",
   "name": "python",
   "nbconvert_exporter": "python",
   "pygments_lexer": "ipython3",
   "version": "3.12.10"
  }
 },
 "nbformat": 4,
 "nbformat_minor": 5
}
